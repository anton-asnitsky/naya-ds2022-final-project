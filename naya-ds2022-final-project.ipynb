{
 "cells": [
  {
   "cell_type": "markdown",
   "id": "cab0b768",
   "metadata": {
    "papermill": {
     "duration": 0.007809,
     "end_time": "2023-03-24T06:27:54.732131",
     "exception": false,
     "start_time": "2023-03-24T06:27:54.724322",
     "status": "completed"
    },
    "tags": []
   },
   "source": [
    "# Import Libraries and Load Datasets"
   ]
  },
  {
   "cell_type": "code",
   "execution_count": 1,
   "id": "7e52f4b3",
   "metadata": {
    "execution": {
     "iopub.execute_input": "2023-03-24T06:27:54.747781Z",
     "iopub.status.busy": "2023-03-24T06:27:54.746857Z",
     "iopub.status.idle": "2023-03-24T06:28:10.000785Z",
     "shell.execute_reply": "2023-03-24T06:28:09.999646Z"
    },
    "papermill": {
     "duration": 15.264796,
     "end_time": "2023-03-24T06:28:10.003449",
     "exception": false,
     "start_time": "2023-03-24T06:27:54.738653",
     "status": "completed"
    },
    "tags": []
   },
   "outputs": [],
   "source": [
    "import pandas as pd\n",
    "import numpy as np\n",
    "import cv2\n",
    "import json\n",
    "import os\n",
    "import matplotlib.pyplot as plt\n",
    "import random\n",
    "import seaborn as sns\n",
    "from keras.models import Sequential\n",
    "from keras import optimizers\n",
    "from keras import backend as K\n",
    "from keras.layers import Dense, Dropout, Activation, Flatten\n",
    "from keras.layers import Conv2D, MaxPooling2D, BatchNormalization\n",
    "from sklearn.model_selection import train_test_split\n",
    "from keras.preprocessing.image import ImageDataGenerator\n",
    "annotations = \"../input/face-mask-detection-dataset/Medical mask/Medical mask/Medical Mask/annotations\"\n",
    "images = \"../input/face-mask-detection-dataset/Medical mask/Medical mask/Medical Mask/images\"\n",
    "df = pd.read_csv(\"../input/face-mask-detection-dataset/train.csv\")\n",
    "df_test = pd.read_csv(\"../input/face-mask-detection-dataset/submission.csv\")"
   ]
  },
  {
   "cell_type": "markdown",
   "id": "4760eaca",
   "metadata": {
    "papermill": {
     "duration": 0.006166,
     "end_time": "2023-03-24T06:28:10.016431",
     "exception": false,
     "start_time": "2023-03-24T06:28:10.010265",
     "status": "completed"
    },
    "tags": []
   },
   "source": [
    "# Load SSD Face Detector"
   ]
  },
  {
   "cell_type": "code",
   "execution_count": 2,
   "id": "4e58596e",
   "metadata": {
    "execution": {
     "iopub.execute_input": "2023-03-24T06:28:10.030957Z",
     "iopub.status.busy": "2023-03-24T06:28:10.030561Z",
     "iopub.status.idle": "2023-03-24T06:28:10.318157Z",
     "shell.execute_reply": "2023-03-24T06:28:10.316957Z"
    },
    "papermill": {
     "duration": 0.298386,
     "end_time": "2023-03-24T06:28:10.321347",
     "exception": false,
     "start_time": "2023-03-24T06:28:10.022961",
     "status": "completed"
    },
    "tags": []
   },
   "outputs": [],
   "source": [
    "cvNet = cv2.dnn.readNetFromCaffe('../input/caffe-face-detector-opencv-pretrained-model/architecture.txt','../input/caffe-face-detector-opencv-pretrained-model/weights.caffemodel')"
   ]
  },
  {
   "cell_type": "markdown",
   "id": "7439a3a9",
   "metadata": {
    "papermill": {
     "duration": 0.006242,
     "end_time": "2023-03-24T06:28:10.334647",
     "exception": false,
     "start_time": "2023-03-24T06:28:10.328405",
     "status": "completed"
    },
    "tags": []
   },
   "source": [
    "# Util Functions"
   ]
  },
  {
   "cell_type": "markdown",
   "id": "c96cdedf",
   "metadata": {
    "papermill": {
     "duration": 0.006112,
     "end_time": "2023-03-24T06:28:10.347373",
     "exception": false,
     "start_time": "2023-03-24T06:28:10.341261",
     "status": "completed"
    },
    "tags": []
   },
   "source": [
    "1. getJSON Function fetches the json file."
   ]
  },
  {
   "cell_type": "code",
   "execution_count": 3,
   "id": "959cdea0",
   "metadata": {
    "execution": {
     "iopub.execute_input": "2023-03-24T06:28:10.361540Z",
     "iopub.status.busy": "2023-03-24T06:28:10.361185Z",
     "iopub.status.idle": "2023-03-24T06:28:10.366157Z",
     "shell.execute_reply": "2023-03-24T06:28:10.365118Z"
    },
    "papermill": {
     "duration": 0.014713,
     "end_time": "2023-03-24T06:28:10.368474",
     "exception": false,
     "start_time": "2023-03-24T06:28:10.353761",
     "status": "completed"
    },
    "tags": []
   },
   "outputs": [],
   "source": [
    "def getJSON(filePathandName):\n",
    "    with open(filePathandName,'r') as f:\n",
    "        return json.load(f)"
   ]
  },
  {
   "cell_type": "markdown",
   "id": "08f3e040",
   "metadata": {
    "papermill": {
     "duration": 0.006501,
     "end_time": "2023-03-24T06:28:10.381040",
     "exception": false,
     "start_time": "2023-03-24T06:28:10.374539",
     "status": "completed"
    },
    "tags": []
   },
   "source": [
    "2. Gamma correction is a nonlinear operation used to encode and decode luminance values in video or still image systems. It is used to instill some light in the image. If gamma < 1, image will shift towards darker end of the spectrum and when gamma > 1, there will be more light in the image."
   ]
  },
  {
   "cell_type": "code",
   "execution_count": 4,
   "id": "83f38438",
   "metadata": {
    "execution": {
     "iopub.execute_input": "2023-03-24T06:28:10.395889Z",
     "iopub.status.busy": "2023-03-24T06:28:10.394954Z",
     "iopub.status.idle": "2023-03-24T06:28:10.401572Z",
     "shell.execute_reply": "2023-03-24T06:28:10.400571Z"
    },
    "papermill": {
     "duration": 0.016513,
     "end_time": "2023-03-24T06:28:10.403689",
     "exception": false,
     "start_time": "2023-03-24T06:28:10.387176",
     "status": "completed"
    },
    "tags": []
   },
   "outputs": [],
   "source": [
    "def adjust_gamma(image, gamma=1.0):\n",
    "    invGamma = 1.0 / gamma\n",
    "    table = np.array([((i / 255.0) ** invGamma) * 255 for i in np.arange(0, 256)])\n",
    "    return cv2.LUT(image.astype(np.uint8), table.astype(np.uint8))"
   ]
  },
  {
   "cell_type": "markdown",
   "id": "e717508c",
   "metadata": {
    "papermill": {
     "duration": 0.005893,
     "end_time": "2023-03-24T06:28:10.416099",
     "exception": false,
     "start_time": "2023-03-24T06:28:10.410206",
     "status": "completed"
    },
    "tags": []
   },
   "source": [
    "# Data Preprocessing"
   ]
  },
  {
   "cell_type": "markdown",
   "id": "f28d9357",
   "metadata": {
    "papermill": {
     "duration": 0.005996,
     "end_time": "2023-03-24T06:28:10.428979",
     "exception": false,
     "start_time": "2023-03-24T06:28:10.422983",
     "status": "completed"
    },
    "tags": []
   },
   "source": [
    "When we're lookong into training JSON data, we can find out the next:\n",
    "* Anntoations fiels holds data about faces as a coorsinates of rectagular area\n",
    "* Also each annotation holds name of the class, We;re interested in **\"face_with_mask\"** and **\"face_no_mask\"** classes."
   ]
  },
  {
   "cell_type": "markdown",
   "id": "9770955e",
   "metadata": {
    "papermill": {
     "duration": 0.006215,
     "end_time": "2023-03-24T06:28:10.441446",
     "exception": false,
     "start_time": "2023-03-24T06:28:10.435231",
     "status": "completed"
    },
    "tags": []
   },
   "source": [
    "Lets' see sample data from training set."
   ]
  },
  {
   "cell_type": "code",
   "execution_count": 5,
   "id": "8955df48",
   "metadata": {
    "execution": {
     "iopub.execute_input": "2023-03-24T06:28:10.456349Z",
     "iopub.status.busy": "2023-03-24T06:28:10.454912Z",
     "iopub.status.idle": "2023-03-24T06:28:39.526607Z",
     "shell.execute_reply": "2023-03-24T06:28:39.525520Z"
    },
    "papermill": {
     "duration": 29.091195,
     "end_time": "2023-03-24T06:28:39.538792",
     "exception": false,
     "start_time": "2023-03-24T06:28:10.447597",
     "status": "completed"
    },
    "tags": []
   },
   "outputs": [
    {
     "data": {
      "text/plain": [
       "{'FileName': '3758.png',\n",
       " 'NumOfAnno': 2,\n",
       " 'Annotations': [{'isProtected': False,\n",
       "   'ID': 217843115901993120,\n",
       "   'BoundingBox': [112, 4, 455, 441],\n",
       "   'classname': 'face_with_mask',\n",
       "   'Confidence': 1,\n",
       "   'Attributes': {}},\n",
       "  {'isProtected': False,\n",
       "   'ID': 12530598208497002,\n",
       "   'BoundingBox': [113, 237, 345, 440],\n",
       "   'classname': 'mask_colorful',\n",
       "   'Confidence': 1,\n",
       "   'Attributes': {}}]}"
      ]
     },
     "execution_count": 5,
     "metadata": {},
     "output_type": "execute_result"
    }
   ],
   "source": [
    "files = []\n",
    "for i in os.listdir(annotations):\n",
    "    files.append(getJSON(os.path.join(annotations,i)))\n",
    "files[0]"
   ]
  },
  {
   "cell_type": "markdown",
   "id": "66bfd643",
   "metadata": {
    "papermill": {
     "duration": 0.009856,
     "end_time": "2023-03-24T06:28:39.563964",
     "exception": false,
     "start_time": "2023-03-24T06:28:39.554108",
     "status": "completed"
    },
    "tags": []
   },
   "source": [
    "\n",
    "Now we'll arrange the training dataset."
   ]
  },
  {
   "cell_type": "code",
   "execution_count": 6,
   "id": "d29bb81e",
   "metadata": {
    "execution": {
     "iopub.execute_input": "2023-03-24T06:28:39.595844Z",
     "iopub.status.busy": "2023-03-24T06:28:39.594883Z",
     "iopub.status.idle": "2023-03-24T06:28:39.667618Z",
     "shell.execute_reply": "2023-03-24T06:28:39.665006Z"
    },
    "papermill": {
     "duration": 0.089933,
     "end_time": "2023-03-24T06:28:39.670602",
     "exception": false,
     "start_time": "2023-03-24T06:28:39.580669",
     "status": "completed"
    },
    "tags": []
   },
   "outputs": [
    {
     "data": {
      "text/html": [
       "<div>\n",
       "<style scoped>\n",
       "    .dataframe tbody tr th:only-of-type {\n",
       "        vertical-align: middle;\n",
       "    }\n",
       "\n",
       "    .dataframe tbody tr th {\n",
       "        vertical-align: top;\n",
       "    }\n",
       "\n",
       "    .dataframe thead th {\n",
       "        text-align: right;\n",
       "    }\n",
       "</style>\n",
       "<table border=\"1\" class=\"dataframe\">\n",
       "  <thead>\n",
       "    <tr style=\"text-align: right;\">\n",
       "      <th></th>\n",
       "      <th>name</th>\n",
       "      <th>x1</th>\n",
       "      <th>x2</th>\n",
       "      <th>y1</th>\n",
       "      <th>y2</th>\n",
       "      <th>classname</th>\n",
       "    </tr>\n",
       "  </thead>\n",
       "  <tbody>\n",
       "    <tr>\n",
       "      <th>0</th>\n",
       "      <td>2756.png</td>\n",
       "      <td>69</td>\n",
       "      <td>126</td>\n",
       "      <td>294</td>\n",
       "      <td>392</td>\n",
       "      <td>face_with_mask</td>\n",
       "    </tr>\n",
       "    <tr>\n",
       "      <th>1</th>\n",
       "      <td>2756.png</td>\n",
       "      <td>505</td>\n",
       "      <td>10</td>\n",
       "      <td>723</td>\n",
       "      <td>283</td>\n",
       "      <td>face_with_mask</td>\n",
       "    </tr>\n",
       "    <tr>\n",
       "      <th>2</th>\n",
       "      <td>2756.png</td>\n",
       "      <td>75</td>\n",
       "      <td>252</td>\n",
       "      <td>264</td>\n",
       "      <td>390</td>\n",
       "      <td>mask_colorful</td>\n",
       "    </tr>\n",
       "    <tr>\n",
       "      <th>3</th>\n",
       "      <td>2756.png</td>\n",
       "      <td>521</td>\n",
       "      <td>136</td>\n",
       "      <td>711</td>\n",
       "      <td>277</td>\n",
       "      <td>mask_colorful</td>\n",
       "    </tr>\n",
       "    <tr>\n",
       "      <th>4</th>\n",
       "      <td>6098.jpg</td>\n",
       "      <td>360</td>\n",
       "      <td>85</td>\n",
       "      <td>728</td>\n",
       "      <td>653</td>\n",
       "      <td>face_no_mask</td>\n",
       "    </tr>\n",
       "  </tbody>\n",
       "</table>\n",
       "</div>"
      ],
      "text/plain": [
       "       name   x1   x2   y1   y2       classname\n",
       "0  2756.png   69  126  294  392  face_with_mask\n",
       "1  2756.png  505   10  723  283  face_with_mask\n",
       "2  2756.png   75  252  264  390   mask_colorful\n",
       "3  2756.png  521  136  711  277   mask_colorful\n",
       "4  6098.jpg  360   85  728  653    face_no_mask"
      ]
     },
     "execution_count": 6,
     "metadata": {},
     "output_type": "execute_result"
    }
   ],
   "source": [
    "df = pd.read_csv(\"../input/face-mask-detection-dataset/train.csv\")\n",
    "df.head()"
   ]
  },
  {
   "cell_type": "markdown",
   "id": "7a66aa64",
   "metadata": {
    "papermill": {
     "duration": 0.01373,
     "end_time": "2023-03-24T06:28:39.707318",
     "exception": false,
     "start_time": "2023-03-24T06:28:39.693588",
     "status": "completed"
    },
    "tags": []
   },
   "source": [
    "* We'll use **mask label** and **non_mask label** to extract bounding box data from json files.\n",
    "* We'll store faces from any particular image in the **train** list along with its label for the training process."
   ]
  },
  {
   "cell_type": "code",
   "execution_count": 7,
   "id": "22bfc30e",
   "metadata": {
    "execution": {
     "iopub.execute_input": "2023-03-24T06:28:39.729853Z",
     "iopub.status.busy": "2023-03-24T06:28:39.729047Z",
     "iopub.status.idle": "2023-03-24T06:30:57.308309Z",
     "shell.execute_reply": "2023-03-24T06:30:57.307187Z"
    },
    "papermill": {
     "duration": 137.601229,
     "end_time": "2023-03-24T06:30:57.317389",
     "exception": false,
     "start_time": "2023-03-24T06:28:39.716160",
     "status": "completed"
    },
    "tags": []
   },
   "outputs": [
    {
     "data": {
      "text/plain": [
       "5749"
      ]
     },
     "execution_count": 7,
     "metadata": {},
     "output_type": "execute_result"
    }
   ],
   "source": [
    "train = []\n",
    "img_size = 124\n",
    "mask = ['face_with_mask']\n",
    "non_mask = [\"face_no_mask\"]\n",
    "labels={'mask':0,'without mask':1}\n",
    "for i in df[\"name\"].unique():\n",
    "    f = i+\".json\"\n",
    "    for j in getJSON(os.path.join(annotations,f)).get(\"Annotations\"):\n",
    "        if j[\"classname\"] in mask:\n",
    "            x,y,w,h = j[\"BoundingBox\"]\n",
    "            img = cv2.imread(os.path.join(images,i),1)\n",
    "            img = img[y:h,x:w]\n",
    "            img = cv2.resize(img,(img_size,img_size))\n",
    "            train.append([img,labels[\"mask\"]])\n",
    "        if j[\"classname\"] in non_mask:\n",
    "            x,y,w,h = j[\"BoundingBox\"]\n",
    "            img = cv2.imread(os.path.join(images,i),1)\n",
    "            img = img[y:h,x:w]\n",
    "            img = cv2.resize(img,(img_size,img_size))    \n",
    "            train.append([img,labels[\"without mask\"]])\n",
    "random.shuffle(train)  \n",
    "len(train)"
   ]
  },
  {
   "cell_type": "markdown",
   "id": "25e6dc1a",
   "metadata": {
    "papermill": {
     "duration": 0.006729,
     "end_time": "2023-03-24T06:30:57.331225",
     "exception": false,
     "start_time": "2023-03-24T06:30:57.324496",
     "status": "completed"
    },
    "tags": []
   },
   "source": [
    "Now, we'll prepare test data and split data and labels."
   ]
  },
  {
   "cell_type": "code",
   "execution_count": 8,
   "id": "bcd1e2c4",
   "metadata": {
    "execution": {
     "iopub.execute_input": "2023-03-24T06:30:57.346979Z",
     "iopub.status.busy": "2023-03-24T06:30:57.346626Z",
     "iopub.status.idle": "2023-03-24T06:30:57.357912Z",
     "shell.execute_reply": "2023-03-24T06:30:57.356622Z"
    },
    "papermill": {
     "duration": 0.023293,
     "end_time": "2023-03-24T06:30:57.361262",
     "exception": false,
     "start_time": "2023-03-24T06:30:57.337969",
     "status": "completed"
    },
    "tags": []
   },
   "outputs": [
    {
     "data": {
      "text/plain": [
       "(124, 124, 3)"
      ]
     },
     "execution_count": 8,
     "metadata": {},
     "output_type": "execute_result"
    }
   ],
   "source": [
    "X = []\n",
    "Y = []\n",
    "for features,label in train:\n",
    "    X.append(features)\n",
    "    Y.append(label)\n",
    "    \n",
    "X[0].shape"
   ]
  },
  {
   "cell_type": "code",
   "execution_count": 9,
   "id": "bbdc40ee",
   "metadata": {
    "execution": {
     "iopub.execute_input": "2023-03-24T06:30:57.376206Z",
     "iopub.status.busy": "2023-03-24T06:30:57.375885Z",
     "iopub.status.idle": "2023-03-24T06:30:58.161157Z",
     "shell.execute_reply": "2023-03-24T06:30:58.159911Z"
    },
    "papermill": {
     "duration": 0.795285,
     "end_time": "2023-03-24T06:30:58.163642",
     "exception": false,
     "start_time": "2023-03-24T06:30:57.368357",
     "status": "completed"
    },
    "tags": []
   },
   "outputs": [
    {
     "name": "stdout",
     "output_type": "stream",
     "text": [
      "[0 1]\n"
     ]
    },
    {
     "data": {
      "text/plain": [
       "(5749,)"
      ]
     },
     "execution_count": 9,
     "metadata": {},
     "output_type": "execute_result"
    }
   ],
   "source": [
    "X = np.array(X)/255.0\n",
    "X = X.reshape(-1,124,124,3)\n",
    "\n",
    "Y = np.array(Y)\n",
    "print(np.unique(Y))\n",
    "Y.shape"
   ]
  },
  {
   "cell_type": "markdown",
   "id": "a6890bac",
   "metadata": {
    "papermill": {
     "duration": 0.008115,
     "end_time": "2023-03-24T06:30:58.179416",
     "exception": false,
     "start_time": "2023-03-24T06:30:58.171301",
     "status": "completed"
    },
    "tags": []
   },
   "source": [
    "# Model training"
   ]
  },
  {
   "cell_type": "code",
   "execution_count": 10,
   "id": "7a592f24",
   "metadata": {
    "execution": {
     "iopub.execute_input": "2023-03-24T06:30:58.196529Z",
     "iopub.status.busy": "2023-03-24T06:30:58.195315Z",
     "iopub.status.idle": "2023-03-24T06:31:03.634544Z",
     "shell.execute_reply": "2023-03-24T06:31:03.633302Z"
    },
    "papermill": {
     "duration": 5.451206,
     "end_time": "2023-03-24T06:31:03.637796",
     "exception": false,
     "start_time": "2023-03-24T06:30:58.186590",
     "status": "completed"
    },
    "tags": []
   },
   "outputs": [],
   "source": [
    "model = Sequential()\n",
    "\n",
    "model.add(Conv2D(32, (3, 3), padding = \"same\", activation='relu', input_shape=(124,124,3)))\n",
    "model.add(Conv2D(64, (3, 3), activation='relu'))\n",
    "model.add(Conv2D(128, (3, 3), activation='relu'))\n",
    "model.add(MaxPooling2D(pool_size=(2,2)))\n",
    "model.add(Dropout(0.25))\n",
    " \n",
    "model.add(Flatten())\n",
    "model.add(Dropout(0.5))\n",
    "model.add(Dense(50, activation='relu'))\n",
    "model.add(Dropout(0.5))\n",
    "model.add(Dense(1, activation='sigmoid'))"
   ]
  },
  {
   "cell_type": "markdown",
   "id": "e0e395d1",
   "metadata": {
    "papermill": {
     "duration": 0.007422,
     "end_time": "2023-03-24T06:31:03.653207",
     "exception": false,
     "start_time": "2023-03-24T06:31:03.645785",
     "status": "completed"
    },
    "tags": []
   },
   "source": [
    "Model summary:"
   ]
  },
  {
   "cell_type": "code",
   "execution_count": 11,
   "id": "d27e99bb",
   "metadata": {
    "execution": {
     "iopub.execute_input": "2023-03-24T06:31:03.670580Z",
     "iopub.status.busy": "2023-03-24T06:31:03.669970Z",
     "iopub.status.idle": "2023-03-24T06:31:03.707801Z",
     "shell.execute_reply": "2023-03-24T06:31:03.706371Z"
    },
    "papermill": {
     "duration": 0.073567,
     "end_time": "2023-03-24T06:31:03.734661",
     "exception": false,
     "start_time": "2023-03-24T06:31:03.661094",
     "status": "completed"
    },
    "tags": []
   },
   "outputs": [
    {
     "name": "stdout",
     "output_type": "stream",
     "text": [
      "Model: \"sequential\"\n",
      "_________________________________________________________________\n",
      " Layer (type)                Output Shape              Param #   \n",
      "=================================================================\n",
      " conv2d (Conv2D)             (None, 124, 124, 32)      896       \n",
      "                                                                 \n",
      " conv2d_1 (Conv2D)           (None, 122, 122, 64)      18496     \n",
      "                                                                 \n",
      " conv2d_2 (Conv2D)           (None, 120, 120, 128)     73856     \n",
      "                                                                 \n",
      " max_pooling2d (MaxPooling2D  (None, 60, 60, 128)      0         \n",
      " )                                                               \n",
      "                                                                 \n",
      " dropout (Dropout)           (None, 60, 60, 128)       0         \n",
      "                                                                 \n",
      " flatten (Flatten)           (None, 460800)            0         \n",
      "                                                                 \n",
      " dropout_1 (Dropout)         (None, 460800)            0         \n",
      "                                                                 \n",
      " dense (Dense)               (None, 50)                23040050  \n",
      "                                                                 \n",
      " dropout_2 (Dropout)         (None, 50)                0         \n",
      "                                                                 \n",
      " dense_1 (Dense)             (None, 1)                 51        \n",
      "                                                                 \n",
      "=================================================================\n",
      "Total params: 23,133,349\n",
      "Trainable params: 23,133,349\n",
      "Non-trainable params: 0\n",
      "_________________________________________________________________\n"
     ]
    }
   ],
   "source": [
    "model.summary()"
   ]
  },
  {
   "cell_type": "markdown",
   "id": "ac47ab9b",
   "metadata": {
    "papermill": {
     "duration": 0.009143,
     "end_time": "2023-03-24T06:31:03.753354",
     "exception": false,
     "start_time": "2023-03-24T06:31:03.744211",
     "status": "completed"
    },
    "tags": []
   },
   "source": [
    "Now we can compile the model:"
   ]
  },
  {
   "cell_type": "code",
   "execution_count": 12,
   "id": "173fee30",
   "metadata": {
    "execution": {
     "iopub.execute_input": "2023-03-24T06:31:03.775068Z",
     "iopub.status.busy": "2023-03-24T06:31:03.773737Z",
     "iopub.status.idle": "2023-03-24T06:31:03.795233Z",
     "shell.execute_reply": "2023-03-24T06:31:03.794171Z"
    },
    "papermill": {
     "duration": 0.035052,
     "end_time": "2023-03-24T06:31:03.798042",
     "exception": false,
     "start_time": "2023-03-24T06:31:03.762990",
     "status": "completed"
    },
    "tags": []
   },
   "outputs": [],
   "source": [
    "model.compile(loss='binary_crossentropy', optimizer='adam' ,metrics=['accuracy'])"
   ]
  },
  {
   "cell_type": "markdown",
   "id": "b5ddd7c0",
   "metadata": {
    "papermill": {
     "duration": 0.009477,
     "end_time": "2023-03-24T06:31:03.817380",
     "exception": false,
     "start_time": "2023-03-24T06:31:03.807903",
     "status": "completed"
    },
    "tags": []
   },
   "source": [
    "We will split training data set to traqin and validation:"
   ]
  },
  {
   "cell_type": "code",
   "execution_count": 13,
   "id": "c625ec70",
   "metadata": {
    "execution": {
     "iopub.execute_input": "2023-03-24T06:31:03.838087Z",
     "iopub.status.busy": "2023-03-24T06:31:03.837676Z",
     "iopub.status.idle": "2023-03-24T06:31:04.449703Z",
     "shell.execute_reply": "2023-03-24T06:31:04.448621Z"
    },
    "papermill": {
     "duration": 0.625284,
     "end_time": "2023-03-24T06:31:04.452329",
     "exception": false,
     "start_time": "2023-03-24T06:31:03.827045",
     "status": "completed"
    },
    "tags": []
   },
   "outputs": [],
   "source": [
    "xtrain,xval,ytrain,yval=train_test_split(X, Y,train_size=0.8,random_state=0)"
   ]
  },
  {
   "cell_type": "markdown",
   "id": "cdc9df36",
   "metadata": {
    "papermill": {
     "duration": 0.008802,
     "end_time": "2023-03-24T06:31:04.470789",
     "exception": false,
     "start_time": "2023-03-24T06:31:04.461987",
     "status": "completed"
    },
    "tags": []
   },
   "source": [
    "Now, we'll generate tensor make data using ImageDataGenerator:"
   ]
  },
  {
   "cell_type": "code",
   "execution_count": 14,
   "id": "5704f01d",
   "metadata": {
    "execution": {
     "iopub.execute_input": "2023-03-24T06:31:04.489723Z",
     "iopub.status.busy": "2023-03-24T06:31:04.489376Z",
     "iopub.status.idle": "2023-03-24T06:31:05.145100Z",
     "shell.execute_reply": "2023-03-24T06:31:05.144034Z"
    },
    "papermill": {
     "duration": 0.668331,
     "end_time": "2023-03-24T06:31:05.147864",
     "exception": false,
     "start_time": "2023-03-24T06:31:04.479533",
     "status": "completed"
    },
    "tags": []
   },
   "outputs": [],
   "source": [
    "tensordata = ImageDataGenerator(\n",
    "        featurewise_center=False,  \n",
    "        samplewise_center=False,  \n",
    "        featurewise_std_normalization=False,  \n",
    "        samplewise_std_normalization=False,  \n",
    "        zca_whitening=False,    \n",
    "        rotation_range=15,    \n",
    "        width_shift_range=0.1,\n",
    "        height_shift_range=0.1,  \n",
    "        horizontal_flip=True,  \n",
    "        vertical_flip=False)\n",
    "tensordata.fit(xtrain)"
   ]
  },
  {
   "cell_type": "markdown",
   "id": "092192e2",
   "metadata": {
    "papermill": {
     "duration": 0.008999,
     "end_time": "2023-03-24T06:31:05.165819",
     "exception": false,
     "start_time": "2023-03-24T06:31:05.156820",
     "status": "completed"
    },
    "tags": []
   },
   "source": [
    "And we can fit our model:"
   ]
  },
  {
   "cell_type": "code",
   "execution_count": 15,
   "id": "14039bde",
   "metadata": {
    "execution": {
     "iopub.execute_input": "2023-03-24T06:31:05.185256Z",
     "iopub.status.busy": "2023-03-24T06:31:05.184328Z",
     "iopub.status.idle": "2023-03-24T06:56:20.357108Z",
     "shell.execute_reply": "2023-03-24T06:56:20.355190Z"
    },
    "papermill": {
     "duration": 1515.185298,
     "end_time": "2023-03-24T06:56:20.359612",
     "exception": false,
     "start_time": "2023-03-24T06:31:05.174314",
     "status": "completed"
    },
    "tags": []
   },
   "outputs": [
    {
     "name": "stderr",
     "output_type": "stream",
     "text": [
      "/opt/conda/lib/python3.7/site-packages/ipykernel_launcher.py:5: UserWarning: `Model.fit_generator` is deprecated and will be removed in a future version. Please use `Model.fit`, which supports generators.\n",
      "  \"\"\"\n"
     ]
    },
    {
     "name": "stdout",
     "output_type": "stream",
     "text": [
      "Epoch 1/50\n"
     ]
    },
    {
     "name": "stderr",
     "output_type": "stream",
     "text": [
      "2023-03-24 06:31:06.831677: E tensorflow/core/grappler/optimizers/meta_optimizer.cc:954] layout failed: INVALID_ARGUMENT: Size of values 0 does not match size of permutation 4 @ fanin shape insequential/dropout/dropout/SelectV2-2-TransposeNHWCToNCHW-LayoutOptimizer\n"
     ]
    },
    {
     "name": "stdout",
     "output_type": "stream",
     "text": [
      "143/143 [==============================] - 41s 174ms/step - loss: 0.4480 - accuracy: 0.8327 - val_loss: 0.2432 - val_accuracy: 0.9026\n",
      "Epoch 2/50\n",
      "143/143 [==============================] - 23s 158ms/step - loss: 0.2915 - accuracy: 0.8820 - val_loss: 0.2227 - val_accuracy: 0.9130\n",
      "Epoch 3/50\n",
      "143/143 [==============================] - 22s 152ms/step - loss: 0.2789 - accuracy: 0.8811 - val_loss: 0.2671 - val_accuracy: 0.9096\n",
      "Epoch 4/50\n",
      "143/143 [==============================] - 23s 159ms/step - loss: 0.2592 - accuracy: 0.8890 - val_loss: 0.2097 - val_accuracy: 0.9217\n",
      "Epoch 5/50\n",
      "143/143 [==============================] - 22s 152ms/step - loss: 0.2465 - accuracy: 0.9017 - val_loss: 0.2331 - val_accuracy: 0.9035\n",
      "Epoch 6/50\n",
      "143/143 [==============================] - 22s 154ms/step - loss: 0.2398 - accuracy: 0.9026 - val_loss: 0.2150 - val_accuracy: 0.9339\n",
      "Epoch 7/50\n",
      "143/143 [==============================] - 22s 156ms/step - loss: 0.2391 - accuracy: 0.9083 - val_loss: 0.1969 - val_accuracy: 0.9409\n",
      "Epoch 8/50\n",
      "143/143 [==============================] - 23s 158ms/step - loss: 0.2297 - accuracy: 0.9072 - val_loss: 0.1976 - val_accuracy: 0.9252\n",
      "Epoch 9/50\n",
      "143/143 [==============================] - 22s 156ms/step - loss: 0.2333 - accuracy: 0.9074 - val_loss: 0.1945 - val_accuracy: 0.9374\n",
      "Epoch 10/50\n",
      "143/143 [==============================] - 22s 155ms/step - loss: 0.2352 - accuracy: 0.9063 - val_loss: 0.1987 - val_accuracy: 0.9270\n",
      "Epoch 11/50\n",
      "143/143 [==============================] - 23s 158ms/step - loss: 0.2289 - accuracy: 0.9074 - val_loss: 0.2052 - val_accuracy: 0.9365\n",
      "Epoch 12/50\n",
      "143/143 [==============================] - 22s 155ms/step - loss: 0.2203 - accuracy: 0.9087 - val_loss: 0.1918 - val_accuracy: 0.9304\n",
      "Epoch 13/50\n",
      "143/143 [==============================] - 22s 155ms/step - loss: 0.2193 - accuracy: 0.9115 - val_loss: 0.1842 - val_accuracy: 0.9374\n",
      "Epoch 14/50\n",
      "143/143 [==============================] - 22s 151ms/step - loss: 0.2195 - accuracy: 0.9102 - val_loss: 0.1820 - val_accuracy: 0.9391\n",
      "Epoch 15/50\n",
      "143/143 [==============================] - 22s 155ms/step - loss: 0.2151 - accuracy: 0.9155 - val_loss: 0.1876 - val_accuracy: 0.9391\n",
      "Epoch 16/50\n",
      "143/143 [==============================] - 22s 154ms/step - loss: 0.2263 - accuracy: 0.9096 - val_loss: 0.1671 - val_accuracy: 0.9400\n",
      "Epoch 17/50\n",
      "143/143 [==============================] - 23s 157ms/step - loss: 0.2126 - accuracy: 0.9135 - val_loss: 0.2108 - val_accuracy: 0.9296\n",
      "Epoch 18/50\n",
      "143/143 [==============================] - 22s 154ms/step - loss: 0.2128 - accuracy: 0.9153 - val_loss: 0.1898 - val_accuracy: 0.9365\n",
      "Epoch 19/50\n",
      "143/143 [==============================] - 22s 151ms/step - loss: 0.2078 - accuracy: 0.9153 - val_loss: 0.1805 - val_accuracy: 0.9417\n",
      "Epoch 20/50\n",
      "143/143 [==============================] - 22s 154ms/step - loss: 0.2087 - accuracy: 0.9192 - val_loss: 0.2129 - val_accuracy: 0.9261\n",
      "Epoch 21/50\n",
      "143/143 [==============================] - 22s 151ms/step - loss: 0.1960 - accuracy: 0.9240 - val_loss: 0.2160 - val_accuracy: 0.9191\n",
      "Epoch 22/50\n",
      "143/143 [==============================] - 22s 154ms/step - loss: 0.1999 - accuracy: 0.9258 - val_loss: 0.1805 - val_accuracy: 0.9452\n",
      "Epoch 23/50\n",
      "143/143 [==============================] - 22s 152ms/step - loss: 0.1970 - accuracy: 0.9196 - val_loss: 0.1724 - val_accuracy: 0.9470\n",
      "Epoch 24/50\n",
      "143/143 [==============================] - 22s 156ms/step - loss: 0.1992 - accuracy: 0.9196 - val_loss: 0.2204 - val_accuracy: 0.9357\n",
      "Epoch 25/50\n",
      "143/143 [==============================] - 22s 151ms/step - loss: 0.1943 - accuracy: 0.9231 - val_loss: 0.2171 - val_accuracy: 0.9409\n",
      "Epoch 26/50\n",
      "143/143 [==============================] - 22s 152ms/step - loss: 0.1917 - accuracy: 0.9242 - val_loss: 0.1731 - val_accuracy: 0.9409\n",
      "Epoch 27/50\n",
      "143/143 [==============================] - 21s 147ms/step - loss: 0.1881 - accuracy: 0.9253 - val_loss: 0.1859 - val_accuracy: 0.9400\n",
      "Epoch 28/50\n",
      "143/143 [==============================] - 22s 151ms/step - loss: 0.1899 - accuracy: 0.9242 - val_loss: 0.1944 - val_accuracy: 0.9383\n",
      "Epoch 29/50\n",
      "143/143 [==============================] - 21s 149ms/step - loss: 0.2028 - accuracy: 0.9216 - val_loss: 0.2110 - val_accuracy: 0.9287\n",
      "Epoch 30/50\n",
      "143/143 [==============================] - 21s 146ms/step - loss: 0.1886 - accuracy: 0.9253 - val_loss: 0.1949 - val_accuracy: 0.9357\n",
      "Epoch 31/50\n",
      "143/143 [==============================] - 21s 147ms/step - loss: 0.1929 - accuracy: 0.9242 - val_loss: 0.1610 - val_accuracy: 0.9496\n",
      "Epoch 32/50\n",
      "143/143 [==============================] - 21s 150ms/step - loss: 0.1872 - accuracy: 0.9306 - val_loss: 0.2244 - val_accuracy: 0.9383\n",
      "Epoch 33/50\n",
      "143/143 [==============================] - 21s 148ms/step - loss: 0.1753 - accuracy: 0.9356 - val_loss: 0.1654 - val_accuracy: 0.9487\n",
      "Epoch 34/50\n",
      "143/143 [==============================] - 21s 149ms/step - loss: 0.1781 - accuracy: 0.9295 - val_loss: 0.2378 - val_accuracy: 0.9296\n",
      "Epoch 35/50\n",
      "143/143 [==============================] - 22s 150ms/step - loss: 0.1882 - accuracy: 0.9310 - val_loss: 0.1926 - val_accuracy: 0.9365\n",
      "Epoch 36/50\n",
      "143/143 [==============================] - 22s 152ms/step - loss: 0.1858 - accuracy: 0.9249 - val_loss: 0.1519 - val_accuracy: 0.9435\n",
      "Epoch 37/50\n",
      "143/143 [==============================] - 22s 150ms/step - loss: 0.1727 - accuracy: 0.9282 - val_loss: 0.1993 - val_accuracy: 0.9365\n",
      "Epoch 38/50\n",
      "143/143 [==============================] - 22s 151ms/step - loss: 0.1773 - accuracy: 0.9317 - val_loss: 0.1499 - val_accuracy: 0.9478\n",
      "Epoch 39/50\n",
      "143/143 [==============================] - 21s 146ms/step - loss: 0.1812 - accuracy: 0.9350 - val_loss: 0.1552 - val_accuracy: 0.9461\n",
      "Epoch 40/50\n",
      "143/143 [==============================] - 21s 147ms/step - loss: 0.1636 - accuracy: 0.9367 - val_loss: 0.1628 - val_accuracy: 0.9478\n",
      "Epoch 41/50\n",
      "143/143 [==============================] - 21s 148ms/step - loss: 0.1677 - accuracy: 0.9391 - val_loss: 0.1590 - val_accuracy: 0.9461\n",
      "Epoch 42/50\n",
      "143/143 [==============================] - 21s 148ms/step - loss: 0.1679 - accuracy: 0.9345 - val_loss: 0.1787 - val_accuracy: 0.9496\n",
      "Epoch 43/50\n",
      "143/143 [==============================] - 21s 145ms/step - loss: 0.1629 - accuracy: 0.9350 - val_loss: 0.1639 - val_accuracy: 0.9496\n",
      "Epoch 44/50\n",
      "143/143 [==============================] - 22s 152ms/step - loss: 0.1547 - accuracy: 0.9422 - val_loss: 0.1817 - val_accuracy: 0.9400\n",
      "Epoch 45/50\n",
      "143/143 [==============================] - 21s 147ms/step - loss: 0.1629 - accuracy: 0.9374 - val_loss: 0.1687 - val_accuracy: 0.9530\n",
      "Epoch 46/50\n",
      "143/143 [==============================] - 21s 148ms/step - loss: 0.1730 - accuracy: 0.9315 - val_loss: 0.1804 - val_accuracy: 0.9443\n",
      "Epoch 47/50\n",
      "143/143 [==============================] - 21s 149ms/step - loss: 0.1708 - accuracy: 0.9297 - val_loss: 0.1739 - val_accuracy: 0.9504\n",
      "Epoch 48/50\n",
      "143/143 [==============================] - 21s 148ms/step - loss: 0.1560 - accuracy: 0.9347 - val_loss: 0.1864 - val_accuracy: 0.9478\n",
      "Epoch 49/50\n",
      "143/143 [==============================] - 21s 148ms/step - loss: 0.1715 - accuracy: 0.9323 - val_loss: 0.1630 - val_accuracy: 0.9513\n",
      "Epoch 50/50\n",
      "143/143 [==============================] - 21s 145ms/step - loss: 0.1584 - accuracy: 0.9407 - val_loss: 0.1850 - val_accuracy: 0.9417\n"
     ]
    }
   ],
   "source": [
    "history = model.fit_generator(tensordata.flow(xtrain, ytrain, batch_size=32),\n",
    "                    steps_per_epoch=xtrain.shape[0]//32,\n",
    "                    epochs=50,\n",
    "                    verbose=1,\n",
    "                    validation_data=(xval, yval))"
   ]
  },
  {
   "cell_type": "markdown",
   "id": "6ad737e9",
   "metadata": {
    "papermill": {
     "duration": 0.536536,
     "end_time": "2023-03-24T06:56:21.461119",
     "exception": false,
     "start_time": "2023-03-24T06:56:20.924583",
     "status": "completed"
    },
    "tags": []
   },
   "source": [
    "Also we can visualoze trainig vs validation results."
   ]
  },
  {
   "cell_type": "markdown",
   "id": "1bfb85c6",
   "metadata": {
    "papermill": {
     "duration": 0.390646,
     "end_time": "2023-03-24T06:56:22.269886",
     "exception": false,
     "start_time": "2023-03-24T06:56:21.879240",
     "status": "completed"
    },
    "tags": []
   },
   "source": [
    "Accuracy:"
   ]
  },
  {
   "cell_type": "code",
   "execution_count": 16,
   "id": "2c993ca5",
   "metadata": {
    "execution": {
     "iopub.execute_input": "2023-03-24T06:56:23.104099Z",
     "iopub.status.busy": "2023-03-24T06:56:23.103702Z",
     "iopub.status.idle": "2023-03-24T06:56:23.442163Z",
     "shell.execute_reply": "2023-03-24T06:56:23.441096Z"
    },
    "papermill": {
     "duration": 0.780126,
     "end_time": "2023-03-24T06:56:23.444418",
     "exception": false,
     "start_time": "2023-03-24T06:56:22.664292",
     "status": "completed"
    },
    "tags": []
   },
   "outputs": [
    {
     "data": {
      "image/png": "[encoded data removed]",
      "text/plain": [
       "<Figure size 640x480 with 1 Axes>"
      ]
     },
     "metadata": {},
     "output_type": "display_data"
    }
   ],
   "source": [
    "plt.plot(history.history['accuracy'],'g')\n",
    "plt.plot(history.history['val_accuracy'],'b')\n",
    "plt.title('Training Accuracy vs Validation Accuracy')\n",
    "plt.ylabel('Accuracy')\n",
    "plt.xlabel('Epoch')\n",
    "plt.legend(['Train', 'Validation'], loc='upper left')\n",
    "plt.show()"
   ]
  },
  {
   "cell_type": "markdown",
   "id": "640e45fa",
   "metadata": {
    "papermill": {
     "duration": 0.388214,
     "end_time": "2023-03-24T06:56:24.218762",
     "exception": false,
     "start_time": "2023-03-24T06:56:23.830548",
     "status": "completed"
    },
    "tags": []
   },
   "source": [
    "Loss:"
   ]
  },
  {
   "cell_type": "code",
   "execution_count": 17,
   "id": "950384f3",
   "metadata": {
    "execution": {
     "iopub.execute_input": "2023-03-24T06:56:25.034946Z",
     "iopub.status.busy": "2023-03-24T06:56:25.034582Z",
     "iopub.status.idle": "2023-03-24T06:56:25.248101Z",
     "shell.execute_reply": "2023-03-24T06:56:25.247169Z"
    },
    "papermill": {
     "duration": 0.603176,
     "end_time": "2023-03-24T06:56:25.250187",
     "exception": false,
     "start_time": "2023-03-24T06:56:24.647011",
     "status": "completed"
    },
    "tags": []
   },
   "outputs": [
    {
     "data": {
      "image/png": "[encoded data removed]",
      "text/plain": [
       "<Figure size 640x480 with 1 Axes>"
      ]
     },
     "metadata": {},
     "output_type": "display_data"
    }
   ],
   "source": [
    "plt.plot(history.history['loss'],'g')\n",
    "plt.plot(history.history['val_loss'],'b')\n",
    "plt.title('Training Loss vs Validation Loss')\n",
    "plt.ylabel('Loss')\n",
    "plt.xlabel('Epoch')\n",
    "plt.legend(['Train', 'Validation'], loc='upper left')\n",
    "plt.show()"
   ]
  },
  {
   "cell_type": "markdown",
   "id": "10e5238e",
   "metadata": {
    "papermill": {
     "duration": 0.396623,
     "end_time": "2023-03-24T06:56:26.078872",
     "exception": false,
     "start_time": "2023-03-24T06:56:25.682249",
     "status": "completed"
    },
    "tags": []
   },
   "source": [
    "# Testing our model"
   ]
  }
 ],
 "metadata": {
  "kernelspec": {
   "display_name": "Python 3",
   "language": "python",
   "name": "python3"
  },
  "language_info": {
   "codemirror_mode": {
    "name": "ipython",
    "version": 3
   },
   "file_extension": ".py",
   "mimetype": "text/x-python",
   "name": "python",
   "nbconvert_exporter": "python",
   "pygments_lexer": "ipython3",
   "version": "3.7.12"
  },
  "papermill": {
   "default_parameters": {},
   "duration": 1727.892067,
   "end_time": "2023-03-24T06:56:29.628048",
   "environment_variables": {},
   "exception": null,
   "input_path": "__notebook__.ipynb",
   "output_path": "__notebook__.ipynb",
   "parameters": {},
   "start_time": "2023-03-24T06:27:41.735981",
   "version": "2.4.0"
  }
 },
 "nbformat": 4,
 "nbformat_minor": 5
}
