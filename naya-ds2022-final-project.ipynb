{
 "cells": [
  {
   "cell_type": "markdown",
   "id": "319914c4",
   "metadata": {
    "jupyter": {
     "source_hidden": true
    },
    "papermill": {
     "duration": 0.003047,
     "end_time": "2023-03-14T16:47:19.979924",
     "exception": false,
     "start_time": "2023-03-14T16:47:19.976877",
     "status": "completed"
    },
    "tags": []
   },
   "source": [
    "# Import Libraries and Load Datasets"
   ]
  },
  {
   "cell_type": "code",
   "execution_count": 1,
   "id": "9a3cfe80",
   "metadata": {
    "execution": {
     "iopub.execute_input": "2023-03-14T16:47:19.986693Z",
     "iopub.status.busy": "2023-03-14T16:47:19.986126Z",
     "iopub.status.idle": "2023-03-14T16:47:29.387288Z",
     "shell.execute_reply": "2023-03-14T16:47:29.385639Z"
    },
    "papermill": {
     "duration": 9.40832,
     "end_time": "2023-03-14T16:47:29.390549",
     "exception": false,
     "start_time": "2023-03-14T16:47:19.982229",
     "status": "completed"
    },
    "tags": []
   },
   "outputs": [],
   "source": [
    "import pandas as pd\n",
    "import numpy as np\n",
    "import cv2\n",
    "import json\n",
    "import os\n",
    "import matplotlib.pyplot as plt\n",
    "import random\n",
    "import seaborn as sns\n",
    "from keras.models import Sequential\n",
    "from keras import optimizers\n",
    "from keras import backend as K\n",
    "from keras.layers import Dense, Dropout, Activation, Flatten\n",
    "from keras.layers import Conv2D, MaxPooling2D, BatchNormalization\n",
    "from sklearn.model_selection import train_test_split\n",
    "from keras.preprocessing.image import ImageDataGenerator\n",
    "directory = \"../input/face-mask-detection-dataset/Medical mask/Medical mask/Medical Mask/annotations\"\n",
    "image_directory = \"../input/face-mask-detection-dataset/Medical mask/Medical mask/Medical Mask/images\"\n",
    "df = pd.read_csv(\"../input/face-mask-detection-dataset/train.csv\")\n",
    "df_test = pd.read_csv(\"../input/face-mask-detection-dataset/submission.csv\")"
   ]
  },
  {
   "cell_type": "markdown",
   "id": "0b17524b",
   "metadata": {
    "papermill": {
     "duration": 0.00186,
     "end_time": "2023-03-14T16:47:29.394747",
     "exception": false,
     "start_time": "2023-03-14T16:47:29.392887",
     "status": "completed"
    },
    "tags": []
   },
   "source": [
    "# Load SSD Face Detector"
   ]
  },
  {
   "cell_type": "code",
   "execution_count": 2,
   "id": "06b4b436",
   "metadata": {
    "execution": {
     "iopub.execute_input": "2023-03-14T16:47:29.401229Z",
     "iopub.status.busy": "2023-03-14T16:47:29.400364Z",
     "iopub.status.idle": "2023-03-14T16:47:29.782739Z",
     "shell.execute_reply": "2023-03-14T16:47:29.781301Z"
    },
    "papermill": {
     "duration": 0.389361,
     "end_time": "2023-03-14T16:47:29.786151",
     "exception": false,
     "start_time": "2023-03-14T16:47:29.396790",
     "status": "completed"
    },
    "tags": []
   },
   "outputs": [],
   "source": [
    "cvNet = cv2.dnn.readNetFromCaffe('../input/caffe-face-detector-opencv-pretrained-model/architecture.txt','../input/caffe-face-detector-opencv-pretrained-model/weights.caffemodel')"
   ]
  }
 ],
 "metadata": {
  "kernelspec": {
   "display_name": "Python 3",
   "language": "python",
   "name": "python3"
  },
  "language_info": {
   "codemirror_mode": {
    "name": "ipython",
    "version": 3
   },
   "file_extension": ".py",
   "mimetype": "text/x-python",
   "name": "python",
   "nbconvert_exporter": "python",
   "pygments_lexer": "ipython3",
   "version": "3.7.12"
  },
  "papermill": {
   "default_parameters": {},
   "duration": 22.718501,
   "end_time": "2023-03-14T16:47:32.419670",
   "environment_variables": {},
   "exception": null,
   "input_path": "__notebook__.ipynb",
   "output_path": "__notebook__.ipynb",
   "parameters": {},
   "start_time": "2023-03-14T16:47:09.701169",
   "version": "2.4.0"
  }
 },
 "nbformat": 4,
 "nbformat_minor": 5
}
